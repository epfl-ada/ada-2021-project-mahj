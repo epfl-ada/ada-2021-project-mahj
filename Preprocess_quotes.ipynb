{
 "cells": [
  {
   "cell_type": "code",
   "execution_count": 1,
   "id": "a169b94e",
   "metadata": {},
   "outputs": [],
   "source": [
    "import pandas as pd\n",
    "\n",
    "import string\n",
    "import re\n",
    "\n",
    "from Helper import *\n",
    "from Constants import *\n",
    "\n",
    "from collections import Counter\n",
    "\n",
    "\n",
    "import nltk\n",
    "from nltk.stem import WordNetLemmatizer\n",
    "\n",
    "from nltk.corpus import stopwords\n",
    "\n",
    "en_stopwords = set(stopwords.words(\"english\"))\n",
    "en_stopwords.update([s.capitalize() for s in stopwords.words(\"english\")])"
   ]
  },
  {
   "cell_type": "code",
   "execution_count": 2,
   "id": "2d12463d",
   "metadata": {},
   "outputs": [],
   "source": [
    "def preprocess(quote):\n",
    "    \"\"\"\n",
    "    Lower first letter of the sentence\n",
    "    Remove number\n",
    "    Tokenize\n",
    "    Remove stop words and words of len = 1\n",
    "    Lemmatize\n",
    "    Remove stop words and words of len = 1 (again)\n",
    "    \"\"\"\n",
    "    \n",
    "    \n",
    "    # Lower first word of the sentence\n",
    "    lower_first_word = lambda tab: \" \".join([tab[0].lower()] + tab[1:])\n",
    "    quote = \" \".join([lower_first_word(sentence.split(\" \")) for sentence in quote.split(\".\")])\n",
    "    \n",
    "    #Remove Numbers\n",
    "    quote = re.sub(r'\\d+', '', quote) \n",
    "\n",
    "    # Tokenize\n",
    "    tokenizer = nltk.RegexpTokenizer(r\"\\w+\")\n",
    "    word_tokens = tokenizer.tokenize(quote)\n",
    "            \n",
    "    remove_stop_words = lambda wt: [w for w in wt if not w in en_stopwords and len(w) > 1]\n",
    "    # Remove stop words and single letters\n",
    "    word_tokens = remove_stop_words(word_tokens)\n",
    "\n",
    "    # Lemmatize\n",
    "    lemmatizer = WordNetLemmatizer()\n",
    "    word_tokens = [lemmatizer.lemmatize(w) for w in word_tokens]\n",
    "    \n",
    "    # Remove stop words and single letters\n",
    "    word_tokens = remove_stop_words(word_tokens)\n",
    "        \n",
    "    return word_tokens"
   ]
  },
  {
   "cell_type": "code",
   "execution_count": 4,
   "id": "71fde516",
   "metadata": {
    "scrolled": true
   },
   "outputs": [
    {
     "name": "stdout",
     "output_type": "stream",
     "text": [
      "Chunk: 0\n"
     ]
    }
   ],
   "source": [
    "json_reader = pd.read_json(FILE_IN,lines=True,chunksize=10_000,compression='bz2') \n",
    "\n",
    "for (counter, df_chunk) in enumerate(json_reader):\n",
    "    print(f\"Chunk: {counter}\")\n",
    "    \n",
    "    # Preprocess all quotes\n",
    "    df_chunk[\"tokens\"] = df_chunk[\"quotation\"].apply(preprocess)\n",
    "    \n",
    "    # Transform url to newpaper acronyme\n",
    "    df_chunk[\"newspapers\"] = df_chunk[\"urls\"].apply(lambda ln: [extract_domain(n) for n in ln])\n",
    "    \n",
    "    # Row = [newspaper list] [preprocessed quotation]\n",
    "    df_quotes = df_chunk[[\"newspapers\", \"tokens\"]]\n",
    "\n",
    "    # Write result chunk by chunk in a csv compressed file\n",
    "    add_header = (counter==0)\n",
    "    write_mode = 'w' if counter == 0 else 'a'\n",
    "    df_quotes.to_csv(FILE_QUOTES,header = add_header,index=False, mode=write_mode,compression='bz2')"
   ]
  }
 ],
 "metadata": {
  "kernelspec": {
   "display_name": "Python 3 (ipykernel)",
   "language": "python",
   "name": "python3"
  },
  "language_info": {
   "codemirror_mode": {
    "name": "ipython",
    "version": 3
   },
   "file_extension": ".py",
   "mimetype": "text/x-python",
   "name": "python",
   "nbconvert_exporter": "python",
   "pygments_lexer": "ipython3",
   "version": "3.8.11"
  }
 },
 "nbformat": 4,
 "nbformat_minor": 5
}
