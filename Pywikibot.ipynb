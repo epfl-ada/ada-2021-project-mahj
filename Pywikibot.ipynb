{
 "cells": [
  {
   "cell_type": "code",
   "execution_count": 7,
   "id": "711f2e58",
   "metadata": {},
   "outputs": [],
   "source": [
    "import pywikibot\n",
    "from pywikibot import pagegenerators as pg\n",
    "import pandas as pd"
   ]
  },
  {
   "cell_type": "markdown",
   "id": "3d0a5df5",
   "metadata": {},
   "source": [
    "## 1- Query wikidata with pywikibot"
   ]
  },
  {
   "cell_type": "markdown",
   "id": "1be5e28b",
   "metadata": {},
   "source": [
    "#### First let's have a look at how to query the information about a journal to wikidata"
   ]
  },
  {
   "cell_type": "code",
   "execution_count": 2,
   "id": "94596646",
   "metadata": {},
   "outputs": [],
   "source": [
    "newspapers = [\"The New York Times\", \"The Washington Times\", \"Business Insider\", \"Fox News\", \"NBC News\",  \"NBC Sports\", \"The Seattle Times\", \"New Haven Register\"]\n",
    "owned_by = []"
   ]
  },
  {
   "cell_type": "code",
   "execution_count": 3,
   "id": "1a428cd1",
   "metadata": {
    "scrolled": true
   },
   "outputs": [
    {
     "name": "stdout",
     "output_type": "stream",
     "text": [
      "The New York Times\n",
      "The Washington Times\n",
      "Business Insider\n",
      "Fox News\n",
      "NBC News\n",
      "NBC Sports\n",
      "The Seattle Times\n",
      "New Haven Register\n"
     ]
    }
   ],
   "source": [
    "for newspaper in newspapers:\n",
    "    print(newspaper)\n",
    "    site = pywikibot.Site(\"en\", \"wikipedia\")\n",
    "    page = pywikibot.Page(site, newspaper)\n",
    "    item = pywikibot.ItemPage.fromPage(page)\n",
    "    repo = site.data_repository()\n",
    "    claims = item.get()['claims'].toJSON()\n",
    "    qid = claims['P127'][0]['mainsnak']['datavalue']['value']['numeric-id']\n",
    "    data_found = pywikibot.ItemPage(repo, \"Q\" + str(qid))\n",
    "    owned_by.append(data_found.get()['labels']['en'])"
   ]
  },
  {
   "cell_type": "code",
   "execution_count": 4,
   "id": "e9be93cc",
   "metadata": {
    "scrolled": false
   },
   "outputs": [
    {
     "data": {
      "text/plain": [
       "['The New York Times Company',\n",
       " 'Unification Church',\n",
       " 'Insider Inc.',\n",
       " 'Fox Corporation',\n",
       " 'NBCUniversal',\n",
       " 'NBCUniversal',\n",
       " 'The Seattle Times Company',\n",
       " '21st Century Media']"
      ]
     },
     "execution_count": 4,
     "metadata": {},
     "output_type": "execute_result"
    }
   ],
   "source": [
    "#Companies that own our journals\n",
    "owned_by"
   ]
  },
  {
   "cell_type": "markdown",
   "id": "b0dd3c55",
   "metadata": {},
   "source": [
    "## 2 - Unfortunately we don't have the correct names of the journals in the quotes, therefore we need a way to link the names of the journals we found in the quotes to the wikidata pages"
   ]
  },
  {
   "cell_type": "markdown",
   "id": "f2852ac7",
   "metadata": {},
   "source": [
    "#### To cope with this issue, we will get all the aliases from the wiki dump to be able to link them"
   ]
  },
  {
   "cell_type": "code",
   "execution_count": null,
   "id": "5f4fa534",
   "metadata": {},
   "outputs": [],
   "source": [
    "#load wiki dump\n",
    "df = pd.read_csv(\"C:\\\\Users\\\\hugol\\\\Desktop\\\\ada-2021-project-mahj\\\\wikidata_labels_descriptions_quotebank.csv.bz2\", compression='bz2')\n"
   ]
  },
  {
   "cell_type": "code",
   "execution_count": 74,
   "id": "ddd12f7d",
   "metadata": {
    "scrolled": true
   },
   "outputs": [
    {
     "data": {
      "text/html": [
       "<div>\n",
       "<style scoped>\n",
       "    .dataframe tbody tr th:only-of-type {\n",
       "        vertical-align: middle;\n",
       "    }\n",
       "\n",
       "    .dataframe tbody tr th {\n",
       "        vertical-align: top;\n",
       "    }\n",
       "\n",
       "    .dataframe thead th {\n",
       "        text-align: right;\n",
       "    }\n",
       "</style>\n",
       "<table border=\"1\" class=\"dataframe\">\n",
       "  <thead>\n",
       "    <tr style=\"text-align: right;\">\n",
       "      <th></th>\n",
       "      <th>QID</th>\n",
       "      <th>Label</th>\n",
       "      <th>Description</th>\n",
       "    </tr>\n",
       "  </thead>\n",
       "  <tbody>\n",
       "    <tr>\n",
       "      <th>2315</th>\n",
       "      <td>Q5163079</td>\n",
       "      <td>Conservative Party of New York State</td>\n",
       "      <td>Conservative third party in the United States</td>\n",
       "    </tr>\n",
       "    <tr>\n",
       "      <th>2499</th>\n",
       "      <td>Q6540770</td>\n",
       "      <td>Liberal Party of New York</td>\n",
       "      <td>Third party only active in state of New York</td>\n",
       "    </tr>\n",
       "    <tr>\n",
       "      <th>2573</th>\n",
       "      <td>Q7013922</td>\n",
       "      <td>New York Republican State Committee</td>\n",
       "      <td>Political party in New York</td>\n",
       "    </tr>\n",
       "    <tr>\n",
       "      <th>4667</th>\n",
       "      <td>Q1384</td>\n",
       "      <td>New York</td>\n",
       "      <td>state of the United States of America</td>\n",
       "    </tr>\n",
       "    <tr>\n",
       "      <th>5299</th>\n",
       "      <td>Q575380</td>\n",
       "      <td>1801 New York gubernatorial election</td>\n",
       "      <td>gubernatorial election held in April 1801</td>\n",
       "    </tr>\n",
       "    <tr>\n",
       "      <th>10905</th>\n",
       "      <td>Q2513114</td>\n",
       "      <td>New York State Right to Life Party</td>\n",
       "      <td>Anti-abortion third party in New York</td>\n",
       "    </tr>\n",
       "    <tr>\n",
       "      <th>13513</th>\n",
       "      <td>Q65047185</td>\n",
       "      <td>2022 New York gubernatorial election</td>\n",
       "      <td>election for Governor of New York</td>\n",
       "    </tr>\n",
       "    <tr>\n",
       "      <th>19985</th>\n",
       "      <td>Q1540332</td>\n",
       "      <td>1777 New York gubernatorial election</td>\n",
       "      <td>gubernatorial election</td>\n",
       "    </tr>\n",
       "    <tr>\n",
       "      <th>21140</th>\n",
       "      <td>Q7014067</td>\n",
       "      <td>New York Democratic Party</td>\n",
       "      <td>political organization in New York, U.S.</td>\n",
       "    </tr>\n",
       "    <tr>\n",
       "      <th>24807</th>\n",
       "      <td>Q2413088</td>\n",
       "      <td>The New York Times Book Review</td>\n",
       "      <td>weekly review of books by the New York Times</td>\n",
       "    </tr>\n",
       "    <tr>\n",
       "      <th>25634</th>\n",
       "      <td>Q6016157</td>\n",
       "      <td>Independence Party of New York</td>\n",
       "      <td>Third party in New York, United States</td>\n",
       "    </tr>\n",
       "    <tr>\n",
       "      <th>29607</th>\n",
       "      <td>Q3339059</td>\n",
       "      <td>New York Law School</td>\n",
       "      <td>private law school in New York City</td>\n",
       "    </tr>\n",
       "    <tr>\n",
       "      <th>31094</th>\n",
       "      <td>Q22023432</td>\n",
       "      <td>2018 New York gubernatorial election</td>\n",
       "      <td>election for Governor of New York</td>\n",
       "    </tr>\n",
       "    <tr>\n",
       "      <th>31675</th>\n",
       "      <td>Q60519355</td>\n",
       "      <td>2020 United States House of Representatives el...</td>\n",
       "      <td>Election</td>\n",
       "    </tr>\n",
       "  </tbody>\n",
       "</table>\n",
       "</div>"
      ],
      "text/plain": [
       "             QID                                              Label  \\\n",
       "2315    Q5163079               Conservative Party of New York State   \n",
       "2499    Q6540770                          Liberal Party of New York   \n",
       "2573    Q7013922                New York Republican State Committee   \n",
       "4667       Q1384                                           New York   \n",
       "5299     Q575380               1801 New York gubernatorial election   \n",
       "10905   Q2513114                 New York State Right to Life Party   \n",
       "13513  Q65047185               2022 New York gubernatorial election   \n",
       "19985   Q1540332               1777 New York gubernatorial election   \n",
       "21140   Q7014067                          New York Democratic Party   \n",
       "24807   Q2413088                     The New York Times Book Review   \n",
       "25634   Q6016157                     Independence Party of New York   \n",
       "29607   Q3339059                                New York Law School   \n",
       "31094  Q22023432               2018 New York gubernatorial election   \n",
       "31675  Q60519355  2020 United States House of Representatives el...   \n",
       "\n",
       "                                         Description  \n",
       "2315   Conservative third party in the United States  \n",
       "2499    Third party only active in state of New York  \n",
       "2573                     Political party in New York  \n",
       "4667           state of the United States of America  \n",
       "5299       gubernatorial election held in April 1801  \n",
       "10905          Anti-abortion third party in New York  \n",
       "13513              election for Governor of New York  \n",
       "19985                         gubernatorial election  \n",
       "21140       political organization in New York, U.S.  \n",
       "24807   weekly review of books by the New York Times  \n",
       "25634         Third party in New York, United States  \n",
       "29607            private law school in New York City  \n",
       "31094              election for Governor of New York  \n",
       "31675                                       Election  "
      ]
     },
     "execution_count": 74,
     "metadata": {},
     "output_type": "execute_result"
    }
   ],
   "source": [
    "no_qa = df.dropna()\n",
    "no_qa[no_qa['Label'].str.contains(\"New York\")]\n",
    "#We see the new york times has QID Q9684"
   ]
  },
  {
   "cell_type": "code",
   "execution_count": 81,
   "id": "f8f8438b",
   "metadata": {},
   "outputs": [
    {
     "name": "stdout",
     "output_type": "stream",
     "text": [
      "['New York Times', 'The Gray Lady', 'nytimes.com', 'New-York Daily Times', 'The NY Times', 'N. Y. Times', 'The New York Daily Times', 'New York Times (newspaper)', 'N Y Times', '@nytimes', 'The NYT', 'The Paper of Record', 'NYTimes', 'The Sunday Times', 'NYT', 'The Times', 'Times']\n"
     ]
    }
   ],
   "source": [
    "#Let's find the aliases for the new york times now \n",
    "site = pywikibot.Site(\"wikidata\", \"wikidata\")\n",
    "repo = site.data_repository()\n",
    "\n",
    "#for i in df.QID: #Here we only do it for the new york times QID\n",
    "    item = pywikibot.ItemPage(repo, \"Q9684\")\n",
    "    print(item.get()['aliases']['en'])\n"
   ]
  },
  {
   "cell_type": "code",
   "execution_count": 82,
   "id": "475114b1",
   "metadata": {},
   "outputs": [],
   "source": [
    "#We have found all the aliases of new york times, in the quotes dataset we extracted\n",
    "# \"nytimes.com\" which is indeed present in the aliase"
   ]
  },
  {
   "cell_type": "code",
   "execution_count": null,
   "id": "cdcbd073",
   "metadata": {},
   "outputs": [],
   "source": [
    "#so now we know that \"nytimes.com\" has QID 9684 in wikidata\n",
    "#We can do this for all the journals we have extracted from the quotes"
   ]
  }
 ],
 "metadata": {
  "kernelspec": {
   "display_name": "Python 3 (ipykernel)",
   "language": "python",
   "name": "python3"
  },
  "language_info": {
   "codemirror_mode": {
    "name": "ipython",
    "version": 3
   },
   "file_extension": ".py",
   "mimetype": "text/x-python",
   "name": "python",
   "nbconvert_exporter": "python",
   "pygments_lexer": "ipython3",
   "version": "3.8.12"
  }
 },
 "nbformat": 4,
 "nbformat_minor": 5
}
