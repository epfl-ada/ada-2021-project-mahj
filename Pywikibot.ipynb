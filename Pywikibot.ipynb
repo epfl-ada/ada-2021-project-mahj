{
 "cells": [
  {
   "cell_type": "code",
   "execution_count": 133,
   "id": "711f2e58",
   "metadata": {},
   "outputs": [],
   "source": [
    "import pywikibot\n",
    "from pywikibot import pagegenerators as pg\n"
   ]
  },
  {
   "cell_type": "code",
   "execution_count": 129,
   "id": "94596646",
   "metadata": {},
   "outputs": [],
   "source": [
    "newspapers = [\"The New York Times\", \"The Washington Times\", \"Business Insider\", \"Fox News\", \"NBC News\",  \"NBC Sports\", \"The Seattle Times\", \"New Haven Register\"]\n",
    "#newspapers = [\"foxnews.com\"]\n",
    "\n",
    "owned_by = []"
   ]
  },
  {
   "cell_type": "code",
   "execution_count": 130,
   "id": "1a428cd1",
   "metadata": {},
   "outputs": [
    {
     "name": "stdout",
     "output_type": "stream",
     "text": [
      "The New York Times\n",
      "The Washington Times\n",
      "Business Insider\n",
      "Fox News\n",
      "NBC News\n",
      "NBC Sports\n",
      "The Seattle Times\n",
      "New Haven Register\n"
     ]
    }
   ],
   "source": [
    "for newspaper in newspapers:\n",
    "    print(newspaper)\n",
    "    site = pywikibot.Site(\"en\", \"wikipedia\")\n",
    "    page = pywikibot.Page(site, newspaper)\n",
    "    item = pywikibot.ItemPage.fromPage(page)\n",
    "    claims = item.get()['claims'].toJSON()\n",
    "    qid = claims['P127'][0]['mainsnak']['datavalue']['value']['numeric-id']\n",
    "    data_found = pywikibot.ItemPage(repo, \"Q\" + str(qid))\n",
    "    owned_by.append(data_found.get()['labels']['en'])"
   ]
  },
  {
   "cell_type": "code",
   "execution_count": 131,
   "id": "e9be93cc",
   "metadata": {},
   "outputs": [
    {
     "data": {
      "text/plain": [
       "['The New York Times Company',\n",
       " 'Unification Church',\n",
       " 'Insider Inc.',\n",
       " 'Fox Corporation',\n",
       " 'NBCUniversal',\n",
       " 'NBCUniversal',\n",
       " 'The Seattle Times Company',\n",
       " '21st Century Media']"
      ]
     },
     "execution_count": 131,
     "metadata": {},
     "output_type": "execute_result"
    }
   ],
   "source": [
    "owned_by"
   ]
  },
  {
   "cell_type": "code",
   "execution_count": 132,
   "id": "dae62841",
   "metadata": {},
   "outputs": [
    {
     "data": {
      "text/plain": [
       "\"\\n  # name of the item, in english or other language\\n  labels = item.get()['labels'].toJSON()\\n  if 'en' in labels:\\n    name = labels['en']['value']\\n  else:\\n    name = labels[list(labels.keys())[0]]['value']\\n\\n  pageid = item.pageid\\n  print(name, pageid)\\n\""
      ]
     },
     "execution_count": 132,
     "metadata": {},
     "output_type": "execute_result"
    }
   ],
   "source": [
    "'''\n",
    "QUERY = '''''''\n",
    "SELECT ?item\n",
    "WHERE {\n",
    "   ?item wdt:P1117 ?value .\n",
    "}\n",
    "'''\n",
    "'''\n",
    "wikidata_site = pywikibot.Site(\"en\", \"wikidata\")\n",
    "generator = pg.WikidataSPARQLPageGenerator(QUERY, site=wikidata_site)\n",
    "\n",
    "for item in generator:\n",
    "    print(item.get()['labels'].toJSON())\n",
    "\n",
    "\n",
    "'''\n",
    "'''\n",
    "  # name of the item, in english or other language\n",
    "  labels = item.get()['labels'].toJSON()\n",
    "  if 'en' in labels:\n",
    "    name = labels['en']['value']\n",
    "  else:\n",
    "    name = labels[list(labels.keys())[0]]['value']\n",
    "\n",
    "  pageid = item.pageid\n",
    "  print(name, pageid)\n",
    "'''"
   ]
  },
  {
   "cell_type": "code",
   "execution_count": null,
   "id": "2335ed8a",
   "metadata": {},
   "outputs": [],
   "source": []
  }
 ],
 "metadata": {
  "kernelspec": {
   "display_name": "Python 3 (ipykernel)",
   "language": "python",
   "name": "python3"
  },
  "language_info": {
   "codemirror_mode": {
    "name": "ipython",
    "version": 3
   },
   "file_extension": ".py",
   "mimetype": "text/x-python",
   "name": "python",
   "nbconvert_exporter": "python",
   "pygments_lexer": "ipython3",
   "version": "3.8.8"
  }
 },
 "nbformat": 4,
 "nbformat_minor": 5
}
