{
 "cells": [
  {
   "cell_type": "markdown",
   "id": "fc72dee9",
   "metadata": {},
   "source": [
    "# Title: The dictatorship of consortia on the media they own."
   ]
  },
  {
   "cell_type": "markdown",
   "id": "f2a0032c",
   "metadata": {},
   "source": [
    "# Le plan: \n",
    "\n",
    "When one wants to get information \n",
    "## 1. Blabla intro du sujet TODO\n",
    "\n",
    "**idée: \"you reader, try and find your favourite US-journal(s)/media(s) in our cluster\"**\n",
    "\n",
    "## 2. What is our goal?\n",
    "\n",
    "## 3. How do we achieve it (in short)?\n",
    "~Use Quotebank + Unsupervised learning\n",
    "\n",
    "## 4. Data story\n",
    "**TODO: voir à quel moment mentionner le bokeh plot**\n",
    "\n",
    "## 5. Caveats (ou inverser 5. et 6. idk)\n",
    "\n",
    "## 6. Conclusions: \n",
    "### 6.1 What did we find?\n",
    "### 6.2 What's next/would be interesting to do\n",
    "\n",
    "### somewhere:\n",
    "Indicate that we interchangeably use the terms speaker/citee/quotee, journal/media/newspaper, and group/consortium"
   ]
  },
  {
   "cell_type": "markdown",
   "id": "c9735eba",
   "metadata": {},
   "source": [
    "# 1. Intro du sujet:\n",
    "**TODO**\n",
    "\n",
    "One's view of the world is based on the information we have on it, and how it is conveyed. A big part of that information we obtain from the media, and in particular \"traditional media\" namely newspapers such as The Guardian or Fox News. As a result, these media have a huge impact on the public’s opinion.\n",
    "\n",
    "One way to ensure you are well-informed (i.e. you are getting information on various topics) and are\n",
    "not biased towards a particular stance[^1] is to gather knowledge from several sources,\n",
    "e.g. several media.\n",
    "\n",
    "[^1]: https://www.allsides.com/media-bias/media-bias-ratings\n",
    "\n",
    "But a lot of these media are owned by the same groups. This begs the question whether\n",
    "the information we are getting really is diverse, or if the news and opinions shared\n",
    "are roughly the same for media belonging to the same entity.[^2]\n",
    "\n",
    "[^2]: https://www.youtube.com/watch?v=_fHfgU8oMSo\n",
    "\n",
    "To answer that question, we will try to cluster journals according to different metrics and features in order to evaluate the opinions they defend. Other scientists have already obtained\n",
    "similar results[^3] [^4] based on twitter which makes us also expect to get interesting results.\n",
    "\n",
    "[^3]: https://www.mediaobservatory.com/\n",
    "[^4]: https://newsteller.io/source"
   ]
  },
  {
   "cell_type": "markdown",
   "id": "1699fef9",
   "metadata": {},
   "source": [
    "# 2. Our goal(s):\n",
    "We aim to show that we can recognize which group some media belong to, using very little data.  \n",
    "As a result, we will have shown a lack of diversity of these media, thus showing that if you want to be well-informed, simply reading different newspapers is not enough. One needs to pay attention to more than that."
   ]
  },
  {
   "cell_type": "markdown",
   "id": "38e80891",
   "metadata": {},
   "source": [
    "# 3. How we achieve that[^1]:\n",
    "[^1]: For a detailed step-by-step description of the process, plase refer to [our notebook](https://github.com/epfl-ada/ada-2021-project-mahj)\n",
    "\n",
    "### 3.1: Overview of the process\n",
    "\n",
    "We need some *features* which allow us to distinguish between diferent media. To do so we use the [Quotebank](https://dlab.epfl.ch/people/west/pub/Vaucher-Spitz-Catasta-West_WSDM-21.pdf) database, which is a dataset of  speaker-attributed quotations that were extracted from diverse English news articles[^2].\n",
    "\n",
    "[^2]: https://zenodo.org/record/4277311\n",
    "\n",
    "We then augment this dataset using [Wikidata](https://www.wikidata.org/wiki/Wikidata:Main_Page) to get the features we deemed necessary for our analysis.\n",
    "\n",
    " \n",
    "\n",
    "### 3.2: Explanation of some of our choices and challenges\n",
    "We have chosen to only focus on one year (namely 2020), as we expect the topics of interest, as well as the prominent people to vary from one year to another.\n",
    "\n",
    "We expect basically all the media to talk about coronavirus, so we need to make sure it does not act as a \"*great equalizer*\" that overshadows other differences between media.\n",
    "\n",
    "As the data is so big, it cannot be held in the RAM all at once. Therefore we had to implement some pipelines treating the data chunk by chunk."
   ]
  },
  {
   "cell_type": "markdown",
   "id": "e9392c0b",
   "metadata": {},
   "source": [
    "# 4. But more precisely, what did you do?:\n",
    "**TODO: sur les graphes préciser que l'axe indiqué en premier correspond aux abscisses.**"
   ]
  },
  {
   "cell_type": "markdown",
   "id": "2763e549",
   "metadata": {},
   "source": [
    "### 4.1: data-augmentation[^1]\n",
    "[^1]: refer to file Wikidata_scraping.ipynb for more details  \n",
    "\n",
    "The data we extract from the Quotebank-dataset look like this:"
   ]
  },
  {
   "cell_type": "code",
   "execution_count": 10,
   "id": "30d490d7",
   "metadata": {},
   "outputs": [],
   "source": [
    "# Ici quelques extraits de la data de quotebank avec juste les attributs qu'on a gardés\n",
    "\n",
    "# Ou ptetre ?:git \n",
    " # 1: original\n",
    " # 2: ce qu'on a gardé"
   ]
  },
  {
   "cell_type": "markdown",
   "id": "cb0f3da9",
   "metadata": {},
   "source": [
    "As you can see, the owners of the media are not indicated here, so we need to extend our dataset with these features.  \n",
    "If we can't automatically find a journal's parent group, we decide to throw it away.\n",
    "We also do so if the journals are lonely children. Indeed, we seek first and foremost to cluster them according to their parent groups, so isolated media are irrelevant."
   ]
  },
  {
   "cell_type": "code",
   "execution_count": 1,
   "id": "e02032bc",
   "metadata": {},
   "outputs": [],
   "source": [
    "# Exemple de à quoi ressemble les infos obtenues / la nouvelle data"
   ]
  },
  {
   "cell_type": "markdown",
   "id": "f545cd85",
   "metadata": {},
   "source": [
    "We also add the country of origin of the media, because we expect to see differences in media based on their country of origin."
   ]
  },
  {
   "cell_type": "markdown",
   "id": "f5652123",
   "metadata": {},
   "source": [
    "### 4.2: Data processing[^1]?\n",
    "Since for each we have both quotes, and quotees (i.e. the people quoted), it seems natural to try and cluster them according to these 2 features. Let us then try 2 different methods:\n",
    " * First, cluster according to which speakers are cited in it.\n",
    " * Second, cluster according to the text content of the extracted quotes.\n",
    " \n",
    "[^1]: see file \"Process_data.ipynb\" for more details  \n"
   ]
  },
  {
   "cell_type": "code",
   "execution_count": 9,
   "id": "bd5c6c04",
   "metadata": {},
   "outputs": [],
   "source": [
    "# For 1, do a small graph like:\n",
    "# article i:\n",
    "  # speaker 1\n",
    "  # speaker 2\n",
    "  # ...\n",
    "  # speaker n\n",
    "\n",
    "# For 2, do sth like:\n",
    "# journal j:\n",
    "  # quote 1\n",
    "  # quote 2\n",
    "  # ...\n",
    "  # quote m\n",
    "\n",
    "# Maybe 1 on the left, and 1 on the right."
   ]
  },
  {
   "cell_type": "markdown",
   "id": "21e75c69",
   "metadata": {},
   "source": [
    "For both these features, we will first use the [Term Frequency-Inverse Document Frequency](https://en.wikipedia.org/wiki/Tf%E2%80%93idf) method (TF-IDF for short) before proceeding to further analysis.  \n",
    "In a nutshell, this method allows one to measure the importance of a term[^1] to a document[^2] in a collection[^3] based on its number of apparitions.\n",
    "\n",
    "[^1]: Here a citee, or a word\n",
    "[^2]: Here a media\n",
    "[^3]: Here, all the media we have kept\n",
    "\n",
    "More clearly, this method gives to each word a weight:\n",
    " * *proportional* to its number of occurences in d (term frequency)\n",
    " * and *inversely proportional* to its presence in the corpus (inverse document frequency)[^1]\n",
    "[^1]: to quantify the 'presence' of a word in the corpus, we simply count the number of documents in which it occurs. We don't take its occurences per document into account here\n",
    "\n",
    "The reasoning is that we use the **IDF** to **find** words **unique** to each document, or **remove recurrent** words, which we find in basically every document, and therefore don't bring any information (e.g. stopwords such as 'the' in a text, or terms related to covid-19[^2]).  \n",
    "We use the **TF** to find words that **appear often**, as they may be **characteristic** of a particular document. For example the word 'brain' may often appear in a neuroscience paper, while not so much in a geography one.\n",
    "\n",
    "[^2]: so this solves, or at least mitigates the issue mentione in **3.2**"
   ]
  },
  {
   "cell_type": "code",
   "execution_count": 14,
   "id": "48ec21f2",
   "metadata": {},
   "outputs": [],
   "source": [
    "# Illustrations: les formes des 2 matrices obtenues, peu importe les coefs\n",
    "\n",
    "# Though on peut mettre une petit flèche vers\n",
    "# la matrice journal-speaker[i, j] par ex."
   ]
  },
  {
   "cell_type": "markdown",
   "id": "283b8ea4",
   "metadata": {},
   "source": [
    "### 4.3: Data analysis (the heart of our problem)\n",
    "\n",
    "Now that we have processed our data, we need to visualize it.  \n",
    "The problem is that the data (our TF-IDF matrices) is inherently high-dimensional, so we as humans can't directly visualize it. That is why we transform our matrices using [Singular Value Decomposition](https://en.wikipedia.org/wiki/Singular_value_decomposition) (SVD).\n",
    "\n",
    "This transformation should allow us to extract \"[topics](https://en.wikipedia.org/wiki/Topic_model)\", which correspond to the directions of highest variation, i.e. **the ones separating the media the best**, and their importance. We can then view the differences between different media along one such axis."
   ]
  },
  {
   "cell_type": "code",
   "execution_count": 13,
   "id": "1164d5ca",
   "metadata": {},
   "outputs": [],
   "source": [
    "# Some illustration of SVD, or maybe of PCA to get the idea?"
   ]
  },
  {
   "cell_type": "markdown",
   "id": "5d75a4a8",
   "metadata": {},
   "source": [
    "#### 4.3.1: The speakers\n",
    "Let us apply this technique on the speakers matrix first."
   ]
  },
  {
   "cell_type": "code",
   "execution_count": 17,
   "id": "0e3bd556",
   "metadata": {},
   "outputs": [],
   "source": [
    "# Illustration des projections qu'on a au départ,\n",
    "# avec la séparation géographique."
   ]
  },
  {
   "cell_type": "markdown",
   "id": "0d63082a",
   "metadata": {},
   "source": [
    "Using the top speakers per axe, we identify the *topics* of the axes:  \n",
    "**TODO: we have min and max, but isn't the axis's name base on max ?**\n",
    "**e.g. first axis is \"speaker frequency\"\n",
    "\n",
    "| Axis | Max                 | Min                     |\n",
    "|------|---------------------|-------------------------|\n",
    "| 0    | Frequent speakers   | Non Frequent speakers   |\n",
    "| 1    | US speakers         | UK speakers             |\n",
    "| 2    | Australian speakers | US speakers             |\n",
    "| 3    | Canadian speakers   | US politician speakers  |\n",
    "| 4    | Basketball speakers | US politicians speakers |\n",
    "\n",
    "As you can see, the speakers are very different in newspapers from different countries which results in clustering mostly based on the country of origin of the newspapers.  \n",
    "It makes sense: UK-media will cite more UK-speakers, while USA-media will cite more USA-speakers. \n",
    "\n",
    "So our clustering works (for example it is easy to recognize journals from the media group *News Corp Australia*), but it is not enough yet. \n",
    "Indeed, even if one is aware they should get their information from different media, are they really that likely to get it from different countries' media? Of course not, and that might be especially true for American people (**TODO: is there some study that says american are self centered, i.e. they get their info from american newspapers?**). \n",
    "\n"
   ]
  },
  {
   "cell_type": "markdown",
   "id": "cc297e73",
   "metadata": {},
   "source": [
    "Then let us see if we can differentiate the media *inside one country!*. We will focus on the USA since it is the country with the most data available"
   ]
  },
  {
   "cell_type": "code",
   "execution_count": 16,
   "id": "ac28691d",
   "metadata": {},
   "outputs": [],
   "source": [
    "# show the list of plots \"speaker with only USA\""
   ]
  },
  {
   "cell_type": "markdown",
   "id": "830b6715",
   "metadata": {},
   "source": [
    "Again we can try and extract the *topics* from the list of top speakers per axe:\n",
    "\n",
    "| Axis | Max                             | Min                                              |\n",
    "|------|---------------------------------|--------------------------------------------------|\n",
    "| 0    | Frequent speakers               | Non Frequent speakers                          |\n",
    "| 1    | Sport coaches of Los Angeles    | West coast personalities                       |\n",
    "| 2    | Sport coaches of San Francisco  | Sport coaches/DJ of Los Angeles                |\n",
    "| 3    | Nashville country singer        | Democrate political figure of Illinois/Minnesota |\n",
    "\n",
    "We also see (in bright green) that journals from *Townsquare Media* explain most of the variance of several axes, namely the 3rd and the 4th.  \n",
    "Hence although we can visually recognize media from this group, it might be interesting to redo our analysis while removing media from this group."
   ]
  },
  {
   "cell_type": "code",
   "execution_count": 20,
   "id": "bbdbbc6c",
   "metadata": {},
   "outputs": [],
   "source": [
    "# les nouveaux plots"
   ]
  },
  {
   "cell_type": "markdown",
   "id": "70efeca1",
   "metadata": {},
   "source": [
    "Clearly we can spot some clusters when projecting on the first few axes. The purple and yellow ones are especially well separated. \n",
    "**TODO: noms des groupes**"
   ]
  },
  {
   "cell_type": "code",
   "execution_count": null,
   "id": "07fe5820",
   "metadata": {},
   "outputs": [],
   "source": []
  },
  {
   "cell_type": "markdown",
   "id": "2d3e632a",
   "metadata": {},
   "source": [
    "**TODO: without townsquare**"
   ]
  },
  {
   "cell_type": "markdown",
   "id": "51d27244",
   "metadata": {},
   "source": [
    "**TODO: la semi-conclusion on the efficiency of this technique, moment important du notebook:**\n",
    "\n",
    "So we are able to recognize which group some journals belong by only using the speakers quoted as a feature.\n",
    "\n",
    "Nevertheless, the most obvious separations seem to stem from geographical differences. We wonder whether through the use of words used in quotes we can cluster the media more efficiently. **todo: ~speakers are local, while words used are more subject-centered**"
   ]
  },
  {
   "cell_type": "markdown",
   "id": "751981b0",
   "metadata": {},
   "source": [
    "#### 4.3.2:  The quotes\n",
    "\n",
    "Now let us apply this technique on the words' matrix (constructed with the words from the quotes).  \n",
    "For starters we will consider all the quotes, and not only the ones in US newspapers. We expect there is still some geographical distinction --due for example to cultural differences, or diverging points of interest (e.g. American football is popular in the USA, but not much in other English speaking countries)--  \n",
    "\n",
    "But we don't expect them to be as obvious as with the speakers' matrix, since we expect more recoupement between journals of different countries."
   ]
  },
  {
   "cell_type": "code",
   "execution_count": 3,
   "id": "7a856996",
   "metadata": {},
   "outputs": [],
   "source": [
    "# Illustration des projections qu'on obtient\n",
    "\n",
    "# ptetre un zoom sur le 0-4? ou un où on voit le mieux une séparation"
   ]
  },
  {
   "cell_type": "markdown",
   "id": "fdb61e98",
   "metadata": {},
   "source": [
    "Again, using the top words per axe we can identify the topics corresponding to the axes:\n",
    "\n",
    "| Axis | Max            | Min                   |\n",
    "|------|----------------|-----------------------|\n",
    "| 0    | Frequent words | Non frequent words    |\n",
    "| 1    | Sports[^1]     | US health             |\n",
    "| 2    | UK **TODO: verify**             | Not clear. Some terms related to music though|\n",
    "| 3    | Music          | Sports                |\n",
    "| 4    | Canada         | US politics **TODO: verify**           |\n",
    "\n",
    "Our hypothesis seems verified, as there are still some geographical distinctions, but not as obvious from the graphs[^2], or as numerous as previously.  \n",
    "\n",
    "**TODO: a word on why \"Sports\" is both a min and a max on different axes**  \n",
    "\n",
    "[^1]:we hypothesize American football in particular, but are not 100% certain.  \n",
    "[^2]: groups of points of one particular color, i.e. corresponding to one consortium in particular are not as obvious when projected on 2 axes, although some still appear (e.g. strange green **TODO** color on projection on axes 0-4)."
   ]
  },
  {
   "cell_type": "markdown",
   "id": "7da766fa",
   "metadata": {},
   "source": [
    "We now focus only on the USA again:"
   ]
  },
  {
   "cell_type": "code",
   "execution_count": 6,
   "id": "4b9cb364",
   "metadata": {},
   "outputs": [],
   "source": [
    "# Illustration des graphes avec les USA.\n",
    "\n",
    "# zoom sur 0-4 par ex (pour les vert fluo, qui doivent correspondre à Townsquare Media)"
   ]
  },
  {
   "cell_type": "markdown",
   "id": "2083adde",
   "metadata": {},
   "source": [
    "As always, we try and identify the topics corresponding to the first axes:\n",
    "\n",
    "| Axis | Max                   | Min                |\n",
    "|------|-----------------------|--------------------|\n",
    "| 0    | Frequent words        | Non frequent words |\n",
    "| 1    | Sports                 | Public health      |\n",
    "| 2    | Music                 | Sports              |\n",
    "| 3    | Local / State related | presidential/political **TODO: verify**       |\n",
    "| 4    | ~Montana state        | not clear **TODO: verify**          |\n",
    "\n",
    "As you can see, they are similar to the previous ones --with unsurprisingly no \"country separation axis\" anymore."
   ]
  },
  {
   "cell_type": "markdown",
   "id": "cd14f9ba",
   "metadata": {},
   "source": [
    "Visually, the bright green points really stand out.  \n",
    "Can you guess to which group they correspond?\n",
    "\n",
    "<details>\n",
    "  <summary>Click to reveal</summary>\n",
    "  \n",
    "  Once again, it is Townsquare media which stands out. That's interesting: it is not only divergent with respect to its choice of speaker, but also w.r.t. the subjects it treats.  \n",
    "  We hypothesize it is so particular because it is composed of many *local radio stations*.\n",
    "  Once more we will remove them to refine our analysis.\n",
    "</details>"
   ]
  },
  {
   "cell_type": "markdown",
   "id": "39bf0f77",
   "metadata": {},
   "source": [
    "Let us remove this consortium from the analysis once again, and see what results we get:"
   ]
  },
  {
   "cell_type": "code",
   "execution_count": 1,
   "id": "bb837df9",
   "metadata": {},
   "outputs": [],
   "source": [
    "# illustration of analysis on words, USA, without Townsquare\n",
    "\n",
    "# zoom on 2-4 or 0-4 or 1-4 (yellow) (2-4 seems best), and maybe 0-2(pale green)"
   ]
  },
  {
   "cell_type": "markdown",
   "id": "3aeed1e6",
   "metadata": {},
   "source": [
    "The axes we identify are as follow:\n",
    "\n",
    "| Axis | Max                   | Min                |\n",
    "|------|-----------------------|--------------------|\n",
    "| 0    | Frequent words        | Non frequent words |\n",
    "| 1    | Sport                 | Public health      |\n",
    "| 2    | Music                 | Sport              |\n",
    "| 3    | Local / State level | Country wide       |\n",
    "| 4    | Election              | Covid              |\n",
    "\n",
    "We can note than axes 0, 1 and 2 are identical to the previous ones.\n",
    "Axis 3 is quite similar also, but if you delve into the details of the words[^1] you can see they are less related to specific states (e.g. words \"Wyoming\" or \"Montana\"), but rather to states in general.\n",
    "\n",
    "The projections are now clearer (especially projection 1-4), and that for 2 reasons mainly:\n",
    " 1. The withdrawal of articles from townsquare media, which had a high variance among several axes. It removed their influence, and hence the SVD projection could take into account the other media more.\n",
    " 2. The removal of some points makes it easier to see the rest of them.\n",
    "\n",
    "[^1]: see notebook \"Analysis.ipynb\""
   ]
  },
  {
   "cell_type": "markdown",
   "id": "26dd1c58",
   "metadata": {},
   "source": [
    "**TODO: un mot sur les différences d'efficacité entre speaker-clustering et word-clustering? accompagné pk pas de 2 graphiques pour les opposer.**"
   ]
  },
  {
   "cell_type": "markdown",
   "id": "6103e99e",
   "metadata": {},
   "source": [
    "From all these projections we can **todo: synonym of exhibit/identify** basically 3 types of media:\n",
    "\n",
    "1. Media belonging to some groups e.g. **TODO** *w* are clustered together on axes *x* and *y*, and are therefore easily identifiable. \n",
    "\n",
    "2. There are also media belonging to a group which we can't as easily uniquely identify, for example because they are part of a bicolor cluster (**TODO: e.g. bla and blou on graphs *x'* and *y'***. Still, we can exhibit a trend on these few groups.\n",
    "\n",
    "3. And finally, there are a number of groups which we have not managed to visually separate through these 2D-projections --see groups whose media are always in the middle of some big blob, e.g. *a*, or seem split all over, e.g. *b*)"
   ]
  },
  {
   "cell_type": "markdown",
   "id": "6b99b0b3",
   "metadata": {},
   "source": [
    "The fact that a process as simple (**TODO: une astérisque/footnote où on explique en quoi il est simple dans la suite, ou on écrit simplement l'explication plus bas?**) as ours is able to exhibit media of groups 1 and 2 mean that these media have obvious bias (**TODO: make sure they are not together bc they are niche?**) which is correlated to the group to which they belong. This bias may be speaker-wise, where some people are **TODO: \"mis en avant\"** more than they should, or word-wise, where **TODO: x**.  \n",
    "\n",
    "In any case, if an unaware viewer gets their information from media in this group, whether one or several, they are bound to be biased too."
   ]
  },
  {
   "cell_type": "markdown",
   "id": "fd0982bc",
   "metadata": {},
   "source": [
    "**TODO: the astérisque**  \n",
    "We deem our process as simple because:\n",
    " * It uses very little information, namely only\n",
    "     * the names of the people quoted in articles of the media\n",
    "     * or the words used in all quotes in articles of a media, seen as a **non-ordered** set.\n",
    "\n",
    "   which furthermore is esaily accessible; you can get it either by yourself, or using some preexisting dataset such as the one we used: *Quotebank*. \n",
    " * The algorithms on which it relies are conceptually relatively simple, which we described earlier:\n",
    "     * the TF-IDF transformation, which we explained earlier\n",
    "     * the Singular Value Decomposition."
   ]
  },
  {
   "cell_type": "code",
   "execution_count": null,
   "id": "ddeb6e3d",
   "metadata": {},
   "outputs": [],
   "source": []
  },
  {
   "cell_type": "markdown",
   "id": "0f385ed2",
   "metadata": {},
   "source": [
    "# 6. Caveats and outlook\n",
    "\n",
    "### 6.1 Caveats \n",
    "**TODO: mieux: là ça tombe un peu comme un cheveu sur la soupe**  \n",
    "While our analysis made some biases clear, it is deeply linked to the dataset we used --here, *Quotebank*. That is why it is important to know how how the latter was generated. We advise one uses **TODO: \"some peer-reviewed database\"**. As the saying goes: *garbage in, garbage out*."
   ]
  },
  {
   "cell_type": "markdown",
   "id": "caa6e0e9",
   "metadata": {},
   "source": [
    "### 6.2 Outlook (and what's next)\n",
    "\n",
    " * better projections/visualization ->**TODO: expliquer comment?**.\n",
    " * more semantic analysis for quotes (better than simple bag/set of words)"
   ]
  },
  {
   "cell_type": "code",
   "execution_count": null,
   "id": "c39b36be",
   "metadata": {},
   "outputs": [],
   "source": []
  },
  {
   "cell_type": "code",
   "execution_count": null,
   "id": "8b487f1b",
   "metadata": {},
   "outputs": [],
   "source": []
  },
  {
   "cell_type": "code",
   "execution_count": null,
   "id": "60d36764",
   "metadata": {},
   "outputs": [],
   "source": []
  },
  {
   "cell_type": "code",
   "execution_count": null,
   "id": "463a853f",
   "metadata": {},
   "outputs": [],
   "source": []
  },
  {
   "cell_type": "code",
   "execution_count": null,
   "id": "cebbfd95",
   "metadata": {},
   "outputs": [],
   "source": []
  },
  {
   "cell_type": "code",
   "execution_count": null,
   "id": "ccf226e7",
   "metadata": {},
   "outputs": [],
   "source": []
  },
  {
   "cell_type": "code",
   "execution_count": null,
   "id": "c945f257",
   "metadata": {},
   "outputs": [],
   "source": []
  },
  {
   "cell_type": "code",
   "execution_count": null,
   "id": "c0e300b0",
   "metadata": {},
   "outputs": [],
   "source": []
  },
  {
   "cell_type": "code",
   "execution_count": null,
   "id": "1d37e5f2",
   "metadata": {},
   "outputs": [],
   "source": []
  },
  {
   "cell_type": "code",
   "execution_count": null,
   "id": "82f0ee3d",
   "metadata": {},
   "outputs": [],
   "source": []
  },
  {
   "cell_type": "code",
   "execution_count": null,
   "id": "6a23debb",
   "metadata": {},
   "outputs": [],
   "source": []
  },
  {
   "cell_type": "code",
   "execution_count": null,
   "id": "ea09270b",
   "metadata": {},
   "outputs": [],
   "source": []
  },
  {
   "cell_type": "code",
   "execution_count": null,
   "id": "6f3484c4",
   "metadata": {},
   "outputs": [],
   "source": []
  },
  {
   "cell_type": "code",
   "execution_count": null,
   "id": "0def0620",
   "metadata": {},
   "outputs": [],
   "source": []
  },
  {
   "cell_type": "code",
   "execution_count": null,
   "id": "44dced9e",
   "metadata": {},
   "outputs": [],
   "source": []
  },
  {
   "cell_type": "code",
   "execution_count": null,
   "id": "6aa313f1",
   "metadata": {},
   "outputs": [],
   "source": []
  },
  {
   "cell_type": "code",
   "execution_count": null,
   "id": "d0d2bac4",
   "metadata": {},
   "outputs": [],
   "source": []
  },
  {
   "cell_type": "code",
   "execution_count": null,
   "id": "7de31967",
   "metadata": {},
   "outputs": [],
   "source": []
  }
 ],
 "metadata": {
  "kernelspec": {
   "display_name": "Python 3 (ipykernel)",
   "language": "python",
   "name": "python3"
  },
  "language_info": {
   "codemirror_mode": {
    "name": "ipython",
    "version": 3
   },
   "file_extension": ".py",
   "mimetype": "text/x-python",
   "name": "python",
   "nbconvert_exporter": "python",
   "pygments_lexer": "ipython3",
   "version": "3.8.12"
  }
 },
 "nbformat": 4,
 "nbformat_minor": 5
}
