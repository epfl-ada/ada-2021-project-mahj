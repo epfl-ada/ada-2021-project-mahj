{
 "cells": [
  {
   "cell_type": "markdown",
   "id": "2dd12ee5",
   "metadata": {},
   "source": [
    "# Le plan: \n",
    "\n",
    "When one wants to get information \n",
    "## 1. Blabla intro du sujet TODO\n",
    "\n",
    "## 2. What is our goal?\n",
    "\n",
    "## 3. How do we achieve it (in short)?\n",
    "~Use Quotebank + Unsupervised learning\n",
    "\n",
    "## 4. Data story\n",
    "\n",
    "## 5. Conclusions: \n",
    "### 5.1 What did we find?\n",
    "### 5.2 What's next/would be interesting to do\n",
    "\n",
    "### somewhere:\n",
    "Indicate that we alternatively the terms speaker/citee, journal/media/newspaper, and group/consortium"
   ]
  },
  {
   "cell_type": "markdown",
   "id": "4c773d8e",
   "metadata": {},
   "source": [
    "# 1. Intro du sujet: TODO"
   ]
  },
  {
   "cell_type": "markdown",
   "id": "321175e8",
   "metadata": {},
   "source": [
    "# 2. Our goal:\n",
    "We aim to show that we can recognize which media group a journal belongs to, using some automatic clustering algorithm using very little data. As a result, we will have shown a lack of diversity of these journals, thus showing that if you want to be well-informed, simply reading different newspapers is not enough. One needs to pay attention to more than that."
   ]
  },
  {
   "cell_type": "markdown",
   "id": "c21280f2",
   "metadata": {},
   "source": [
    "# 3. How we achieve that:\n",
    "\n",
    "\\[For a detailed description of the process, keep reading, or better, go see our [notebook](https://github.com/epfl-ada/ada-2021-project-mahj)\\].\n",
    "\n",
    "\n",
    "We need some *features* which allow us to distinguish between diferent media. To do so we use the [Quotebank](https://dlab.epfl.ch/people/west/pub/Vaucher-Spitz-Catasta-West_WSDM-21.pdf) database, which is a dataset of  speaker-attributed quotations that were extracted from diverse English news articles[^1].\n",
    "\n",
    "[^1]: https://zenodo.org/record/4277311\n",
    "\n",
    "We then augment this dataset using [Wikidata](https://www.wikidata.org/wiki/Wikidata:Main_Page) to get the features we deemed necessary for our analysis.\n",
    "\n",
    "**TODO: commenter la taille  É N O R M E  du dataset qu'on a?**  \n",
    "**TODO: refine last paragraph**\n",
    "After getting all those features, we use [Natural language processing](https://en.wikipedia.org/wiki/Natural_language_processing)-techniques (or NLP) as well as [unsupervised learning algorithms](https://en.wikipedia.org/wiki/Unsupervised_learning) to cluster media, and see what we find."
   ]
  },
  {
   "cell_type": "markdown",
   "id": "594acee3",
   "metadata": {},
   "source": [
    "# 4. But more precisely, what did you do?:"
   ]
  },
  {
   "cell_type": "markdown",
   "id": "a6995c98",
   "metadata": {},
   "source": [
    "### 4.1: data-extension\n",
    "Well for starters, the data we extract from the Quotebank-dataset look like this:"
   ]
  },
  {
   "cell_type": "code",
   "execution_count": 3,
   "id": "72deac6f",
   "metadata": {},
   "outputs": [],
   "source": [
    "# Ici quelques extraits de la data de quotebank avec juste les attributs qu'on a gardés\n",
    "\n",
    "# Ou ptetre ?:\n",
    " # 1: original\n",
    " # 2: ce qu'on a gardé"
   ]
  },
  {
   "cell_type": "markdown",
   "id": "e021be50",
   "metadata": {},
   "source": [
    "As you can see, the owners of the media are not indicated here, so we need to extend our dataset with these features.  \n",
    "If we can't automatically find a journal's parent group, we decide to throw it away.\n",
    "We also do so if the journals are lonely children. Indeed, we seek (**todo: above all/firstly**) to cluster them according to their parent groups, so isolated media are irrelevant.\n",
    "\n",
    "**TODO? \"see file Wikidata_scraping.ipynb\"**"
   ]
  },
  {
   "cell_type": "code",
   "execution_count": 7,
   "id": "8e0d6ddc",
   "metadata": {},
   "outputs": [],
   "source": [
    "# Excerpt of wikidata code for scraping?\n",
    "# Exemple de à quoi ressemble les infos obtenues / la nouvelle data"
   ]
  },
  {
   "cell_type": "markdown",
   "id": "629927c6",
   "metadata": {},
   "source": [
    "### 4.2: Data processing?\n",
    "Since for each we have both quotes, and quotees (i.e. the people quoted), it seems natural to try and cluster them according to these 2 features. Let us then try 2 different methods:\n",
    " * First, cluster according to which speakers are cited in it.\n",
    " * Second, cluster according to the text content of the extracted quotes.\n",
    " \n",
    "**TODO: see file \"Process_data.ipynb\" for more details**"
   ]
  },
  {
   "cell_type": "code",
   "execution_count": 9,
   "id": "41823477",
   "metadata": {},
   "outputs": [],
   "source": [
    "# For 1, do a small graph like:\n",
    "# journal i:\n",
    "  # speaker 1\n",
    "  # speaker 2\n",
    "  # ...\n",
    "  # speaker n\n",
    "\n",
    "# For 2, do sth like:\n",
    "# journal j:\n",
    "  # quote 1\n",
    "  # quote 2\n",
    "  # ...\n",
    "  # quote m\n",
    "\n",
    "# Maybe 1 on the left, and 1 on the right."
   ]
  },
  {
   "cell_type": "markdown",
   "id": "deb4e695",
   "metadata": {},
   "source": [
    "For both these features, we will first use the [Term Frequency-Inverse Document Frequency](https://en.wikipedia.org/wiki/Tf%E2%80%93idf) method (TF-IDF for short) (**todo: better name?**) before proceeding to further analysis.  \n",
    "In a nutshell, this method allows one to measure the importance of a term[^1] to a document[^2] in a collection[^3] based on its number of apparitions.\n",
    "\n",
    "[^1]: Here a citee, or a word\n",
    "[^2]: Here a media\n",
    "[^3]: Here, all the media we have kept"
   ]
  },
  {
   "cell_type": "markdown",
   "id": "3099785b",
   "metadata": {},
   "source": [
    "**TODO: maybe a bit long?**\n",
    "Basically this method gives to each word a weight:\n",
    " * *proportional* to its number of occurences in d (term frequency)\n",
    " * and *inversely proportional* to its presence in the corpus (inverse document frequency)[^1]\n",
    "\n",
    "The reasoning is that we use the **IDF** to **find** words **unique** to each document, or **remove recurrent** words, which we find in basically every document, and therefore don't bring any information (e.g. stopwords such as 'the' in a text).  \n",
    "We use the **TF** to find words that **appear often**, as they may be **characteristic** of a particular document. For example the word 'brain' may often appear in a neuroscience paper, while not so much in a geography one.\n",
    "\n",
    "[^1]: to quantify the 'presence' of a word in the corpus, we simply count the number of documents in which it occurs. We don't take its occurences per document into account here"
   ]
  },
  {
   "cell_type": "code",
   "execution_count": 10,
   "id": "92eb8c71",
   "metadata": {},
   "outputs": [],
   "source": [
    "# Ce serait bien d'avoir je ne sais quelle illustration \n",
    "# pour laisser le lecteur respirer un peu\n",
    "# Mais je ne sais pas trop quoi mettre."
   ]
  },
  {
   "cell_type": "markdown",
   "id": "07e27c59",
   "metadata": {},
   "source": [
    "### 4.3: Data analysis (the heart of our problem)\n",
    "**TODO: see file \"Analysis.ipynb\" for more details**\n",
    "\n",
    "Now that we have transformed our data as needed, we go on with the actual *clustering*, and then the *visualization*."
   ]
  },
  {
   "cell_type": "markdown",
   "id": "b878dd53",
   "metadata": {},
   "source": [
    "#### 4.3.1: The clustering\n",
    "**Do we explain the clustering briefly? @jonas @antoine**"
   ]
  },
  {
   "cell_type": "markdown",
   "id": "25a3cc57",
   "metadata": {},
   "source": [
    "#### 4.3.2: The visualization"
   ]
  },
  {
   "cell_type": "code",
   "execution_count": null,
   "id": "fc5d5eeb",
   "metadata": {},
   "outputs": [],
   "source": []
  },
  {
   "cell_type": "code",
   "execution_count": null,
   "id": "ccddef6d",
   "metadata": {},
   "outputs": [],
   "source": []
  },
  {
   "cell_type": "code",
   "execution_count": null,
   "id": "84ea19fe",
   "metadata": {},
   "outputs": [],
   "source": []
  },
  {
   "cell_type": "code",
   "execution_count": null,
   "id": "7584eb07",
   "metadata": {},
   "outputs": [],
   "source": []
  },
  {
   "cell_type": "code",
   "execution_count": null,
   "id": "dfdfae3c",
   "metadata": {},
   "outputs": [],
   "source": []
  },
  {
   "cell_type": "code",
   "execution_count": null,
   "id": "f4e19233",
   "metadata": {},
   "outputs": [],
   "source": []
  },
  {
   "cell_type": "code",
   "execution_count": null,
   "id": "408d484f",
   "metadata": {},
   "outputs": [],
   "source": []
  },
  {
   "cell_type": "code",
   "execution_count": null,
   "id": "f4a8b5b7",
   "metadata": {},
   "outputs": [],
   "source": []
  },
  {
   "cell_type": "code",
   "execution_count": null,
   "id": "899e6e16",
   "metadata": {},
   "outputs": [],
   "source": []
  },
  {
   "cell_type": "code",
   "execution_count": null,
   "id": "4349cd49",
   "metadata": {},
   "outputs": [],
   "source": []
  },
  {
   "cell_type": "code",
   "execution_count": null,
   "id": "ae8cc527",
   "metadata": {},
   "outputs": [],
   "source": []
  },
  {
   "cell_type": "code",
   "execution_count": null,
   "id": "392847c8",
   "metadata": {},
   "outputs": [],
   "source": []
  },
  {
   "cell_type": "code",
   "execution_count": null,
   "id": "3e56a12a",
   "metadata": {},
   "outputs": [],
   "source": []
  },
  {
   "cell_type": "code",
   "execution_count": null,
   "id": "22bdbe61",
   "metadata": {},
   "outputs": [],
   "source": []
  },
  {
   "cell_type": "code",
   "execution_count": null,
   "id": "99d4dad2",
   "metadata": {},
   "outputs": [],
   "source": []
  },
  {
   "cell_type": "code",
   "execution_count": null,
   "id": "a1e7fced",
   "metadata": {},
   "outputs": [],
   "source": []
  },
  {
   "cell_type": "code",
   "execution_count": null,
   "id": "2d4c737c",
   "metadata": {},
   "outputs": [],
   "source": []
  },
  {
   "cell_type": "code",
   "execution_count": null,
   "id": "e343f049",
   "metadata": {},
   "outputs": [],
   "source": []
  },
  {
   "cell_type": "code",
   "execution_count": null,
   "id": "687f8570",
   "metadata": {},
   "outputs": [],
   "source": []
  },
  {
   "cell_type": "code",
   "execution_count": null,
   "id": "6cc21e28",
   "metadata": {},
   "outputs": [],
   "source": []
  },
  {
   "cell_type": "code",
   "execution_count": null,
   "id": "4397a60f",
   "metadata": {},
   "outputs": [],
   "source": []
  },
  {
   "cell_type": "code",
   "execution_count": null,
   "id": "f324da25",
   "metadata": {},
   "outputs": [],
   "source": []
  },
  {
   "cell_type": "code",
   "execution_count": null,
   "id": "d0d5d46e",
   "metadata": {},
   "outputs": [],
   "source": []
  },
  {
   "cell_type": "code",
   "execution_count": null,
   "id": "cdba5cf4",
   "metadata": {},
   "outputs": [],
   "source": []
  },
  {
   "cell_type": "code",
   "execution_count": null,
   "id": "a5f913f8",
   "metadata": {},
   "outputs": [],
   "source": []
  },
  {
   "cell_type": "code",
   "execution_count": null,
   "id": "4638d686",
   "metadata": {},
   "outputs": [],
   "source": []
  },
  {
   "cell_type": "code",
   "execution_count": null,
   "id": "78132236",
   "metadata": {},
   "outputs": [],
   "source": []
  },
  {
   "cell_type": "code",
   "execution_count": null,
   "id": "0fbe7cae",
   "metadata": {},
   "outputs": [],
   "source": []
  },
  {
   "cell_type": "code",
   "execution_count": null,
   "id": "7b462ae4",
   "metadata": {},
   "outputs": [],
   "source": []
  },
  {
   "cell_type": "code",
   "execution_count": null,
   "id": "4dbaf0c9",
   "metadata": {},
   "outputs": [],
   "source": []
  },
  {
   "cell_type": "code",
   "execution_count": null,
   "id": "b69dd25e",
   "metadata": {},
   "outputs": [],
   "source": []
  },
  {
   "cell_type": "code",
   "execution_count": null,
   "id": "12228c95",
   "metadata": {},
   "outputs": [],
   "source": []
  }
 ],
 "metadata": {
  "kernelspec": {
   "display_name": "Python [conda env:ada] *",
   "language": "python",
   "name": "conda-env-ada-py"
  },
  "language_info": {
   "codemirror_mode": {
    "name": "ipython",
    "version": 3
   },
   "file_extension": ".py",
   "mimetype": "text/x-python",
   "name": "python",
   "nbconvert_exporter": "python",
   "pygments_lexer": "ipython3",
   "version": "3.8.12"
  }
 },
 "nbformat": 4,
 "nbformat_minor": 5
}
